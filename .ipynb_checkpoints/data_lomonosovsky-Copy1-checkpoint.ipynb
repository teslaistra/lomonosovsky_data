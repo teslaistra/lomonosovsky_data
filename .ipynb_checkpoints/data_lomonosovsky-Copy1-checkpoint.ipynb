{
 "cells": [
  {
   "cell_type": "code",
   "execution_count": 8,
   "metadata": {},
   "outputs": [],
   "source": [
    "import pandas\n",
    "from bs4 import BeautifulSoup\n",
    "import  os\n",
    "import json\n",
    "import re\n",
    "import urllib as urllib2\n",
    "from urllib import request\n",
    "import requests\n",
    "from time import sleep\n",
    "from selenium import webdriver\n"
   ]
  },
  {
   "cell_type": "code",
   "execution_count": 9,
   "metadata": {},
   "outputs": [],
   "source": [
    "BASE_URL = 'http://www.reformagkh.ru'\n",
    "EXTENDED_BASE = 'https://www.reformagkh.ru/myhouse'\n",
    "AREAS_URL = 'https://www.reformagkh.ru/myhouse?tid=2280999&sort=alphabet&item=mkd&ajax'\n",
    "AREAS_FILE = 'regions.json'\n",
    "MUN_URLPAT = 'http://www.reformagkh.ru/myhouse?tid=2280999&sort=alphabet&item=mkd&ajax&tid=%s'\n",
    "MUN_FILEPAT = 'data/raw/tid_%s.json'\n",
    "BUILDING_LIST_PAT = 'http://www.reformagkh.ru/myhouse/list?tid=%s&sort=alphabet&item=tp&mkdsort=name&mkdorder=asc&perpage=10000'\n",
    "BUILDING_URLPAT = 'http://www.reformagkh.ru/myhouse/view/%s/?group=0'\n",
    "BUILDING_KEYS = ['house_id', 'url', 'address','year', 'area', 'num_people', 'status']"
   ]
  },
  {
   "cell_type": "code",
   "execution_count": 10,
   "metadata": {},
   "outputs": [],
   "source": [
    "def table2dict(tab, skip=0, keys=[], keyshift=2):\n",
    "    rows = []\n",
    "    i = 0\n",
    "    for k in tab.findAll('tr', recursive=False):\n",
    "        i += 1\n",
    "        if i - skip <= 0: continue\n",
    "        row = {}\n",
    "        #print k\n",
    "        tds = k.findAll('td')\n",
    "        url=tds[0].find('a')['href']\n",
    "        row['url']=BASE_URL+url\n",
    "        row['house_id']=re.search('/\\d+/',url).group(0).replace('/','')\n",
    "        tdslen = len(tds)\n",
    "        for n in range(0, len(keys), 1):\n",
    "            try:\n",
    "                row[keys[n+keyshift]] = tds[n].text\n",
    "            except:\n",
    "                pass\n",
    "        #print row\n",
    "        rows.append(row)\n",
    "    return rows"
   ]
  },
  {
   "cell_type": "code",
   "execution_count": 13,
   "metadata": {},
   "outputs": [],
   "source": [
    "def extract_areas():\n",
    "    \"\"\"Extracts indicators data by area code. Saves as JSON file\"\"\"\n",
    "    filename = AREAS_FILE\n",
    "    if os.path.exists(filename): return None\n",
    "    print(\"Processing Areas\", AREAS_URL)\n",
    "    \n",
    "    url = AREAS_URL\n",
    "    browser = webdriver.PhantomJS(executable_path=\"C:\\\\Users\\\\772\\\\Documents\\\\phantomjs-2.1.1-windows\\\\bin\\\\phantomjs.exe\")\n",
    "    browser.get(url)\n",
    "    sleep(2)\n",
    "    html = browser.page_source\n",
    "    soup = BeautifulSoup(html, 'lxml')\n",
    "    columns = soup.find_all('div', attrs={'class':'col-4 py-4'})\n",
    "    links = []\n",
    "    for i in columns:\n",
    "        for a in i.find_all('a', href=True):\n",
    "            print(\"Found the URL:\", a['href'])\n",
    "            links.append({\"link\": EXTENDED_BASE + a['href'], \"area_name\": a.text})\n",
    "      \n",
    "    f = open(filename, 'w')\n",
    "    f.write(json.dumps(links, indent=4, ensure_ascii=False))\n",
    "    f.close()\n",
    "    print(\"Processing Areas\", 'written')\n",
    "    return links\n"
   ]
  },
  {
   "cell_type": "code",
   "execution_count": 14,
   "metadata": {
    "scrolled": false
   },
   "outputs": [],
   "source": [
    "extract_areas()"
   ]
  },
  {
   "cell_type": "code",
   "execution_count": 17,
   "metadata": {},
   "outputs": [],
   "source": [
    "def extract_municipal():\n",
    "    \"\"\"Extracts data about municipal areas\"\"\"\n",
    "    f = open(AREAS_FILE, 'r')\n",
    "    data = f.read()\n",
    "    f.close()\n",
    "    js = json.loads(data)\n",
    "    print(js)\n",
    "    links = []\n",
    "\n",
    "    browser = webdriver.PhantomJS(executable_path=\"C:\\\\Users\\\\772\\\\Documents\\\\phantomjs-2.1.1-windows\\\\bin\\\\phantomjs.exe\")\n",
    "    for area in js: \n",
    "        browser.get(area['link'])\n",
    "        sleep(2)\n",
    "        html = browser.page_source\n",
    "        soup = BeautifulSoup(html, 'lxml')\n",
    "        columns = soup.find_all('div', attrs={'class':'col-4 py-4'})\n",
    "        for i in columns:\n",
    "            for a in i.find_all('a', href=True):\n",
    "                print(\"Found the URL:\", a['href'])\n",
    "                links.append({\"link\": EXTENDED_BASE + a['href'], \"area_name\": a.text})\n",
    "    return links        "
   ]
  },
  {
   "cell_type": "code",
   "execution_count": 58,
   "metadata": {},
   "outputs": [],
   "source": [
    "def get_buildings_list(url, getlast=True):\n",
    "    url = AREAS_URL\n",
    "    browser = webdriver.PhantomJS(executable_path=\"C:\\\\Users\\\\772\\\\Documents\\\\phantomjs-2.1.1-windows\\\\bin\\\\phantomjs.exe\")\n",
    "    browser.get(url)\n",
    "    sleep(2)\n",
    "    html = browser.page_source\n",
    "    \n",
    "    soup = BeautifulSoup(html)\n",
    "    content = soup.find('div', attrs={'id' : 'printAnketa'}, recursive=True)\n",
    "#    print url, content\n",
    "#    print soup\n",
    "    if getlast:\n",
    "        itemlist = content.find('div', attrs={'class' : 'item-list'})\n",
    "        pager = itemlist.find('ul', attrs={'class' : 'pager'})\n",
    "        plast = pager.find('li', attrs={'class' : 'pager-last'})\n",
    "        if plast is not None:\n",
    "            lastpagenum = plast.find('a').string\n",
    "        else:\n",
    "            pitems = pager.findAll('li', attrs={'class' : 'pager-item'})\n",
    "            lastpagenum = pitems[-1].text\n",
    "    else:\n",
    "        lastpagenum = None\n",
    "\n",
    "    tab = content.find('table')\n",
    "    if tab is not None:\n",
    "        rows = table2dict(tab, skip=1, keys=BUILDING_KEYS)\n",
    "    else:\n",
    "        rows = []\n",
    "    return rows, lastpagenum"
   ]
  },
  {
   "cell_type": "code",
   "execution_count": 61,
   "metadata": {},
   "outputs": [],
   "source": [
    "def save_buildings(tid =None):\n",
    "    \"\"\"Saves buildings data by TID\"\"\"\n",
    "    filename = 'data/raw/buildings_%s.json' % 'lomonosovsky'\n",
    "    #if os.path.exists(filename):\n",
    "    #    print \"Skipping buildings for mun %s\" % tid\n",
    "    #    return\n",
    "    #print \"Processing buildings for mun %s\" % tid\n",
    "    url = 'https://www.reformagkh.ru/myhouse?tid=2281077&item=tp'\n",
    "    #url = BUILDING_LIST_PAT % tid\n",
    "    rows, lastp =  get_buildings_list(url, getlast=False)\n",
    "    #print '- processed', url\n",
    "    f = open(filename, 'w')\n",
    "    json.dump(rows, f, indent=4)\n",
    "    f.close()"
   ]
  },
  {
   "cell_type": "code",
   "execution_count": 62,
   "metadata": {},
   "outputs": [
    {
     "ename": "AttributeError",
     "evalue": "'NoneType' object has no attribute 'find'",
     "output_type": "error",
     "traceback": [
      "\u001b[1;31m---------------------------------------------------------------------------\u001b[0m",
      "\u001b[1;31mAttributeError\u001b[0m                            Traceback (most recent call last)",
      "\u001b[1;32m<ipython-input-62-73732592090e>\u001b[0m in \u001b[0;36m<module>\u001b[1;34m\u001b[0m\n\u001b[1;32m----> 1\u001b[1;33m \u001b[0msave_buildings\u001b[0m\u001b[1;33m(\u001b[0m\u001b[1;33m)\u001b[0m\u001b[1;33m\u001b[0m\u001b[1;33m\u001b[0m\u001b[0m\n\u001b[0m",
      "\u001b[1;32m<ipython-input-61-4b63c3cf0a87>\u001b[0m in \u001b[0;36msave_buildings\u001b[1;34m(tid)\u001b[0m\n\u001b[0;32m      8\u001b[0m     \u001b[0murl\u001b[0m \u001b[1;33m=\u001b[0m \u001b[1;34m'https://www.reformagkh.ru/myhouse?tid=2281077&item=tp'\u001b[0m\u001b[1;33m\u001b[0m\u001b[1;33m\u001b[0m\u001b[0m\n\u001b[0;32m      9\u001b[0m     \u001b[1;31m#url = BUILDING_LIST_PAT % tid\u001b[0m\u001b[1;33m\u001b[0m\u001b[1;33m\u001b[0m\u001b[1;33m\u001b[0m\u001b[0m\n\u001b[1;32m---> 10\u001b[1;33m     \u001b[0mrows\u001b[0m\u001b[1;33m,\u001b[0m \u001b[0mlastp\u001b[0m \u001b[1;33m=\u001b[0m  \u001b[0mget_buildings_list\u001b[0m\u001b[1;33m(\u001b[0m\u001b[0murl\u001b[0m\u001b[1;33m,\u001b[0m \u001b[0mgetlast\u001b[0m\u001b[1;33m=\u001b[0m\u001b[1;32mFalse\u001b[0m\u001b[1;33m)\u001b[0m\u001b[1;33m\u001b[0m\u001b[1;33m\u001b[0m\u001b[0m\n\u001b[0m\u001b[0;32m     11\u001b[0m     \u001b[1;31m#print '- processed', url\u001b[0m\u001b[1;33m\u001b[0m\u001b[1;33m\u001b[0m\u001b[1;33m\u001b[0m\u001b[0m\n\u001b[0;32m     12\u001b[0m     \u001b[0mf\u001b[0m \u001b[1;33m=\u001b[0m \u001b[0mopen\u001b[0m\u001b[1;33m(\u001b[0m\u001b[0mfilename\u001b[0m\u001b[1;33m,\u001b[0m \u001b[1;34m'w'\u001b[0m\u001b[1;33m)\u001b[0m\u001b[1;33m\u001b[0m\u001b[1;33m\u001b[0m\u001b[0m\n",
      "\u001b[1;32m<ipython-input-58-e68f75f4e8ed>\u001b[0m in \u001b[0;36mget_buildings_list\u001b[1;34m(url, getlast)\u001b[0m\n\u001b[0;32m     22\u001b[0m         \u001b[0mlastpagenum\u001b[0m \u001b[1;33m=\u001b[0m \u001b[1;32mNone\u001b[0m\u001b[1;33m\u001b[0m\u001b[1;33m\u001b[0m\u001b[0m\n\u001b[0;32m     23\u001b[0m \u001b[1;33m\u001b[0m\u001b[0m\n\u001b[1;32m---> 24\u001b[1;33m     \u001b[0mtab\u001b[0m \u001b[1;33m=\u001b[0m \u001b[0mcontent\u001b[0m\u001b[1;33m.\u001b[0m\u001b[0mfind\u001b[0m\u001b[1;33m(\u001b[0m\u001b[1;34m'table'\u001b[0m\u001b[1;33m)\u001b[0m\u001b[1;33m\u001b[0m\u001b[1;33m\u001b[0m\u001b[0m\n\u001b[0m\u001b[0;32m     25\u001b[0m     \u001b[1;32mif\u001b[0m \u001b[0mtab\u001b[0m \u001b[1;32mis\u001b[0m \u001b[1;32mnot\u001b[0m \u001b[1;32mNone\u001b[0m\u001b[1;33m:\u001b[0m\u001b[1;33m\u001b[0m\u001b[1;33m\u001b[0m\u001b[0m\n\u001b[0;32m     26\u001b[0m         \u001b[0mrows\u001b[0m \u001b[1;33m=\u001b[0m \u001b[0mtable2dict\u001b[0m\u001b[1;33m(\u001b[0m\u001b[0mtab\u001b[0m\u001b[1;33m,\u001b[0m \u001b[0mskip\u001b[0m\u001b[1;33m=\u001b[0m\u001b[1;36m1\u001b[0m\u001b[1;33m,\u001b[0m \u001b[0mkeys\u001b[0m\u001b[1;33m=\u001b[0m\u001b[0mBUILDING_KEYS\u001b[0m\u001b[1;33m)\u001b[0m\u001b[1;33m\u001b[0m\u001b[1;33m\u001b[0m\u001b[0m\n",
      "\u001b[1;31mAttributeError\u001b[0m: 'NoneType' object has no attribute 'find'"
     ]
    }
   ],
   "source": [
    "save_buildings()"
   ]
  },
  {
   "cell_type": "code",
   "execution_count": null,
   "metadata": {},
   "outputs": [],
   "source": [
    "def extract_buildings_list():\n",
    "    \"\"\"Extracts list of buildings for each area\"\"\"\n",
    "    f = open(AREAS_FILE, 'r')\n",
    "    data = f.read()\n",
    "    f.close()\n",
    "    areas = json.loads(data)\n",
    "    for area in areas:\n",
    "        f = open(MUN_FILEPAT % area['tid'], 'r')\n",
    "        data = f.read()\n",
    "        f.close()\n",
    "        try:\n",
    "            muns = json.loads(data)\n",
    "        except:\n",
    "            continue\n",
    "        for mun in muns:\n",
    "            save_buildings(mun['tid'])\n",
    "        save_buildings(area['tid'])\n"
   ]
  },
  {
   "cell_type": "code",
   "execution_count": null,
   "metadata": {},
   "outputs": [],
   "source": [
    "\n",
    "def get_buildings_data(tid):\n",
    "    \"\"\"Collect buildings data for specific area by TID (territory id)\"\"\"\n",
    "    filename = 'data/raw/buildings_%s.json' % tid\n",
    "    f = open(filename, 'r')\n",
    "    rows = json.load(f)\n",
    "    f.close()\n",
    "    return rows"
   ]
  },
  {
   "cell_type": "code",
   "execution_count": null,
   "metadata": {},
   "outputs": [],
   "source": [
    "\n",
    "def refine_buildings():\n",
    "    \"\"\"Prepare data for publishing\"\"\"\n",
    "    idkeys = []\n",
    "    allrows = []\n",
    "    allterr = []\n",
    "    f = open(AREAS_FILE, 'r')\n",
    "    data = f.read()\n",
    "    f.close()\n",
    "    areas = json.loads(data)\n",
    "    for area in areas:\n",
    "        f = open(MUN_FILEPAT % area['tid'], 'r')\n",
    "        data = f.read()\n",
    "        f.close()\n",
    "        try:\n",
    "            muns = json.loads(data)\n",
    "        except:\n",
    "            continue\n",
    "        for mun in muns:\n",
    "            allterr.append({'name' : mun['name'], 'id' : mun['tid']})\n",
    "            rows = get_buildings_data(mun['tid'])\n",
    "            for row in rows:\n",
    "                if row['house_id'] not in idkeys: idkeys.append(row['house_id'])\n",
    "                else: continue\n",
    "                item = {}\n",
    "                item['area_name'] = mun['name']\n",
    "                item['area_id'] = mun['tid']\n",
    "                item['address'] = row['address']\n",
    "                item['house_year'] = row['year']\n",
    "                item['house_id'] = row['house_id']\n",
    "                item['house_area'] = row['area']\n",
    "                item['num_people'] = row['num_people']\n",
    "                allrows.append(item)\n",
    "        rows = get_buildings_data(area['tid'])\n",
    "        if len(rows) > 0:\n",
    "            allterr.append({'name' : area['name'], 'id' : area['tid']})\n",
    "        for row in rows:\n",
    "            if row['house_id'] not in idkeys: idkeys.append(row['house_id'])\n",
    "            else: continue\n",
    "            item = {}\n",
    "            item['area_name'] = mun['name']\n",
    "            item['area_id'] = mun['tid']\n",
    "            item['address'] = row['address']\n",
    "            item['house_year'] = row['year']\n",
    "            item['house_id'] = row['house_id']\n",
    "            item['house_area'] = row['area']\n",
    "            item['num_people'] = row['num_people']\n",
    "            allrows.append(item)\n",
    "    f = open('data/refine/buildings.json', 'w')\n",
    "    json.dump(allrows, f, indent=4)\n",
    "    f.close()\n",
    "    f = open('data/refine/areas.json', 'w')\n",
    "    json.dump(allterr, f, indent=4)\n",
    "    f.close()\n"
   ]
  },
  {
   "cell_type": "code",
   "execution_count": 61,
   "metadata": {},
   "outputs": [
    {
     "name": "stdout",
     "output_type": "stream",
     "text": [
      "Processing Areas http://www.reformagkh.ru/myhouse?tid=2280999&sort=alphabet&item=mkd&ajax\n",
      "<html><head><script lang=\"text/javascript\">\n",
      "    var checkKey = 'a0ee50584a39e6d7c4e6e3191b2cf8dd',\n",
      "        key1 = '7b2808d07931224c27054f522a3395d15b3100ea640576bcc08f',\n",
      "        val1 = Number('1060883614'),\n",
      "        key2 = '7b2808d07931224c27054f522a3395d13ee9da1dd87b63c6f83c',\n",
      "        val2 = Number('1351839011');\n",
      "\n",
      "    var xhrRequest = new XMLHttpRequest();\n",
      "\n",
      "    xhrRequest.open('POST', '/save-check-data');\n",
      "    xhrRequest.setRequestHeader('Content-Type', 'application/x-www-form-urlencoded');\n",
      "    xhrRequest.setRequestHeader('X-Requested-With', 'XMLHttpRequest');\n",
      "    xhrRequest.onload = function () {\n",
      "        var response = JSON.parse(xhrRequest.responseText || '{}');\n",
      "\n",
      "        if (xhrRequest.status === 200 && !!response.success) {\n",
      "            window.location.reload();\n",
      "        } else {\n",
      "            window.location.href = '/';\n",
      "        }\n",
      "    };\n",
      "    xhrRequest.send(encodeURI('key1=' + key1 + '&key2=' + key2 + '&check-key=' + checkKey + '&check-value=' + (val1 + val2)));\n",
      "</script>\n",
      "</head></html>\n"
     ]
    },
    {
     "ename": "AttributeError",
     "evalue": "'NoneType' object has no attribute 'find_all'",
     "output_type": "error",
     "traceback": [
      "\u001b[1;31m---------------------------------------------------------------------------\u001b[0m",
      "\u001b[1;31mAttributeError\u001b[0m                            Traceback (most recent call last)",
      "\u001b[1;32m<ipython-input-61-acb9ebd46c1e>\u001b[0m in \u001b[0;36m<module>\u001b[1;34m\u001b[0m\n\u001b[1;32m----> 1\u001b[1;33m \u001b[0mextract_areas\u001b[0m\u001b[1;33m(\u001b[0m\u001b[1;33m)\u001b[0m\u001b[1;33m\u001b[0m\u001b[1;33m\u001b[0m\u001b[0m\n\u001b[0m",
      "\u001b[1;32m<ipython-input-60-df917f294d06>\u001b[0m in \u001b[0;36mextract_areas\u001b[1;34m()\u001b[0m\n\u001b[0;32m      8\u001b[0m     \u001b[0msoup\u001b[0m \u001b[1;33m=\u001b[0m \u001b[0mBeautifulSoup\u001b[0m\u001b[1;33m(\u001b[0m\u001b[0mresponse\u001b[0m\u001b[1;33m.\u001b[0m\u001b[0mcontent\u001b[0m\u001b[1;33m)\u001b[0m\u001b[1;33m\u001b[0m\u001b[1;33m\u001b[0m\u001b[0m\n\u001b[0;32m      9\u001b[0m     \u001b[0mprint\u001b[0m\u001b[1;33m(\u001b[0m\u001b[0msoup\u001b[0m\u001b[1;33m)\u001b[0m\u001b[1;33m\u001b[0m\u001b[1;33m\u001b[0m\u001b[0m\n\u001b[1;32m---> 10\u001b[1;33m     \u001b[0mcontent\u001b[0m \u001b[1;33m=\u001b[0m \u001b[0msoup\u001b[0m\u001b[1;33m.\u001b[0m\u001b[0mfind\u001b[0m\u001b[1;33m(\u001b[0m\u001b[1;34m'div'\u001b[0m\u001b[1;33m,\u001b[0m \u001b[0mattrs\u001b[0m\u001b[1;33m=\u001b[0m\u001b[1;33m{\u001b[0m\u001b[1;34m'class'\u001b[0m \u001b[1;33m:\u001b[0m \u001b[1;34m'tables'\u001b[0m\u001b[1;33m}\u001b[0m\u001b[1;33m,\u001b[0m \u001b[0mrecursive\u001b[0m\u001b[1;33m=\u001b[0m\u001b[1;32mTrue\u001b[0m\u001b[1;33m)\u001b[0m\u001b[1;33m.\u001b[0m\u001b[0mfind_all\u001b[0m\u001b[1;33m(\u001b[0m\u001b[1;34m'a'\u001b[0m\u001b[1;33m)\u001b[0m\u001b[1;33m\u001b[0m\u001b[1;33m\u001b[0m\u001b[0m\n\u001b[0m\u001b[0;32m     11\u001b[0m     \u001b[0mareas\u001b[0m\u001b[1;33m=\u001b[0m\u001b[1;33m[\u001b[0m\u001b[1;33m]\u001b[0m\u001b[1;33m\u001b[0m\u001b[1;33m\u001b[0m\u001b[0m\n\u001b[0;32m     12\u001b[0m     \u001b[1;32mfor\u001b[0m \u001b[0ma\u001b[0m \u001b[1;32min\u001b[0m \u001b[0mcontent\u001b[0m\u001b[1;33m:\u001b[0m\u001b[1;33m\u001b[0m\u001b[1;33m\u001b[0m\u001b[0m\n",
      "\u001b[1;31mAttributeError\u001b[0m: 'NoneType' object has no attribute 'find_all'"
     ]
    }
   ],
   "source": []
  },
  {
   "cell_type": "code",
   "execution_count": null,
   "metadata": {},
   "outputs": [],
   "source": []
  }
 ],
 "metadata": {
  "kernelspec": {
   "display_name": "Python 3",
   "language": "python",
   "name": "python3"
  },
  "language_info": {
   "codemirror_mode": {
    "name": "ipython",
    "version": 3
   },
   "file_extension": ".py",
   "mimetype": "text/x-python",
   "name": "python",
   "nbconvert_exporter": "python",
   "pygments_lexer": "ipython3",
   "version": "3.8.3"
  }
 },
 "nbformat": 4,
 "nbformat_minor": 4
}
